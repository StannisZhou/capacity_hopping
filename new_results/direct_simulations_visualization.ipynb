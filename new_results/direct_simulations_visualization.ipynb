{
 "cells": [
  {
   "cell_type": "code",
   "execution_count": null,
   "metadata": {},
   "outputs": [],
   "source": [
    "%matplotlib inline\n",
    "import matplotlib.pyplot as plt\n",
    "import pickle\n",
    "import numpy as np\n",
    "from matplotlib.patches import Circle"
   ]
  },
  {
   "cell_type": "code",
   "execution_count": null,
   "metadata": {},
   "outputs": [],
   "source": [
    "CASE_LIST = ['small', 'med', 'large']\n",
    "results = {}\n",
    "model_params = {}\n",
    "for case in CASE_LIST:\n",
    "    with open('simulation_based_hitprob/{}_target/results.pkl'.format(case), 'rb') as f:\n",
    "        results[case] = pickle.load(f)\n",
    "    \n",
    "    with open('simulation_based_hitprob/{}_target/model_params.pkl'.format(case), 'rb') as f:\n",
    "        model_params[case] = pickle.load(f)"
   ]
  },
  {
   "cell_type": "code",
   "execution_count": null,
   "metadata": {},
   "outputs": [],
   "source": [
    "fig, ax = plt.subplots(1, len(CASE_LIST), figsize=(15, 15))\n",
    "for cc, case in enumerate(CASE_LIST):\n",
    "    ax[cc].add_patch(Circle((0, 0), 1, fill=False, linewidth=1))\n",
    "    for ii in range(2):\n",
    "        center = model_params[case]['target_param_list'][ii]['center'][:2]\n",
    "        for rr in model_params[case]['target_param_list'][ii]['radiuses']:\n",
    "            ax[cc].add_patch(Circle(center, rr, fill=False, linewidth=1))\n",
    "            \n",
    "    ax[cc].axis('off')\n",
    "    ax[cc].set_aspect(1)\n",
    "    ax[cc].set_xlim(-1.015, 1.015)\n",
    "    ax[cc].set_ylim(-1.015, 1.015)\n",
    "    ax[cc].set_title('{} targets'.format(case.capitalize()))"
   ]
  },
  {
   "cell_type": "code",
   "execution_count": null,
   "metadata": {},
   "outputs": [],
   "source": [
    "fig, ax = plt.subplots(2, len(CASE_LIST), figsize=(30, 15))\n",
    "for cc, case in enumerate(CASE_LIST):\n",
    "    hitting_prob_list = results[case]['hitting_prob_list'][:, 0]\n",
    "    ax[0, cc].hist(hitting_prob_list)\n",
    "    ax[0, cc].set_title('Mean: {:.2f}, Std: {:.2f}, Range: {:.2f}'.format(\n",
    "        np.mean(hitting_prob_list), np.std(hitting_prob_list), np.ptp(hitting_prob_list)\n",
    "    ), fontsize=25)\n",
    "    ax[0, cc].xaxis.set_tick_params(labelsize=20)\n",
    "    ax[1, cc].hist(hitting_prob_list)\n",
    "    ax[1, cc].set_xlim(0, 1)\n",
    "    ax[1, cc].xaxis.set_tick_params(labelsize=20)"
   ]
  }
 ],
 "metadata": {
  "kernelspec": {
   "display_name": "Python 3",
   "language": "python",
   "name": "python3"
  },
  "language_info": {
   "codemirror_mode": {
    "name": "ipython",
    "version": 3
   },
   "file_extension": ".py",
   "mimetype": "text/x-python",
   "name": "python",
   "nbconvert_exporter": "python",
   "pygments_lexer": "ipython3",
   "version": "3.6.9"
  }
 },
 "nbformat": 4,
 "nbformat_minor": 2
}
